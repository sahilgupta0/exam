{
 "cells": [
  {
   "cell_type": "code",
   "execution_count": 13,
   "id": "3c4afc02",
   "metadata": {},
   "outputs": [
    {
     "ename": "ModuleNotFoundError",
     "evalue": "No module named 'sklearn'",
     "output_type": "error",
     "traceback": [
      "\u001b[0;31m---------------------------------------------------------------------------\u001b[0m",
      "\u001b[0;31mModuleNotFoundError\u001b[0m                       Traceback (most recent call last)",
      "Cell \u001b[0;32mIn[13], line 7\u001b[0m\n\u001b[1;32m      5\u001b[0m \u001b[38;5;28;01mimport\u001b[39;00m \u001b[38;5;21;01mmatplotlib\u001b[39;00m\u001b[38;5;21;01m.\u001b[39;00m\u001b[38;5;21;01mpyplot\u001b[39;00m \u001b[38;5;28;01mas\u001b[39;00m \u001b[38;5;21;01mplt\u001b[39;00m\n\u001b[1;32m      6\u001b[0m \u001b[38;5;28;01mimport\u001b[39;00m \u001b[38;5;21;01mseaborn\u001b[39;00m \u001b[38;5;28;01mas\u001b[39;00m \u001b[38;5;21;01msns\u001b[39;00m\n\u001b[0;32m----> 7\u001b[0m \u001b[38;5;28;01mfrom\u001b[39;00m \u001b[38;5;21;01msklearn\u001b[39;00m\u001b[38;5;21;01m.\u001b[39;00m\u001b[38;5;21;01mmodel_selection\u001b[39;00m \u001b[38;5;28;01mimport\u001b[39;00m train_test_split\n\u001b[1;32m      8\u001b[0m \u001b[38;5;28;01mfrom\u001b[39;00m \u001b[38;5;21;01msklearn\u001b[39;00m\u001b[38;5;21;01m.\u001b[39;00m\u001b[38;5;21;01mlinear_model\u001b[39;00m \u001b[38;5;28;01mimport\u001b[39;00m LinearRegression, Ridge, Lasso, BayesianRidge\n\u001b[1;32m      9\u001b[0m \u001b[38;5;28;01mfrom\u001b[39;00m \u001b[38;5;21;01msklearn\u001b[39;00m\u001b[38;5;21;01m.\u001b[39;00m\u001b[38;5;21;01mpreprocessing\u001b[39;00m \u001b[38;5;28;01mimport\u001b[39;00m PolynomialFeatures, StandardScaler\n",
      "\u001b[0;31mModuleNotFoundError\u001b[0m: No module named 'sklearn'"
     ]
    }
   ],
   "source": [
    "# Import necessary libraries\n",
    "import numpy as np\n",
    "import pandas as pd\n",
    "import matplotlib\n",
    "import matplotlib.pyplot as plt\n",
    "import seaborn as sns\n",
    "from sklearn.model_selection import train_test_split\n",
    "from sklearn.linear_model import LinearRegression, Ridge, Lasso, BayesianRidge\n",
    "from sklearn.preprocessing import PolynomialFeatures, StandardScaler\n",
    "from sklearn.metrics import mean_squared_error, r2_score, mean_absolute_error, explained_variance_score\n",
    "from sklearn.svm import SVR\n",
    "from sklearn.tree import DecisionTreeRegressor\n",
    "from sklearn.ensemble import RandomForestRegressor, GradientBoostingRegressor\n",
    "from sklearn.pipeline import make_pipeline"
   ]
  },
  {
   "cell_type": "code",
   "execution_count": null,
   "id": "70da85d2",
   "metadata": {},
   "outputs": [],
   "source": [
    "!sudo apt install python3-numpy python3-pandas python3-matplotlib python3-seaborn python3-sklearn\n"
   ]
  },
  {
   "cell_type": "code",
   "execution_count": null,
   "id": "80bd91ee",
   "metadata": {},
   "outputs": [],
   "source": [
    "# Load your dataset\n",
    "df = pd.read_csv('flood.csv')  # Use your dataset file path here"
   ]
  },
  {
   "cell_type": "code",
   "execution_count": 12,
   "id": "fa9b46c8",
   "metadata": {},
   "outputs": [
    {
     "name": "stdout",
     "output_type": "stream",
     "text": [
      "\u001b[1;31merror\u001b[0m: \u001b[1mexternally-managed-environment\u001b[0m\r\n",
      "\r\n",
      "\u001b[31m×\u001b[0m This environment is externally managed\r\n",
      "\u001b[31m╰─>\u001b[0m To install Python packages system-wide, try apt install\r\n",
      "\u001b[31m   \u001b[0m python3-xyz, where xyz is the package you are trying to\r\n",
      "\u001b[31m   \u001b[0m install.\r\n",
      "\u001b[31m   \u001b[0m \r\n",
      "\u001b[31m   \u001b[0m If you wish to install a non-Debian-packaged Python package,\r\n",
      "\u001b[31m   \u001b[0m create a virtual environment using python3 -m venv path/to/venv.\r\n",
      "\u001b[31m   \u001b[0m Then use path/to/venv/bin/python and path/to/venv/bin/pip. Make\r\n",
      "\u001b[31m   \u001b[0m sure you have python3-full installed.\r\n",
      "\u001b[31m   \u001b[0m \r\n",
      "\u001b[31m   \u001b[0m If you wish to install a non-Debian packaged Python application,\r\n",
      "\u001b[31m   \u001b[0m it may be easiest to use pipx install xyz, which will manage a\r\n",
      "\u001b[31m   \u001b[0m virtual environment for you. Make sure you have pipx installed.\r\n",
      "\u001b[31m   \u001b[0m \r\n",
      "\u001b[31m   \u001b[0m See /usr/share/doc/python3.12/README.venv for more information.\r\n",
      "\r\n",
      "\u001b[1;35mnote\u001b[0m: If you believe this is a mistake, please contact your Python installation or OS distribution provider. You can override this, at the risk of breaking your Python installation or OS, by passing --break-system-packages.\r\n",
      "\u001b[1;36mhint\u001b[0m: See PEP 668 for the detailed specification.\r\n"
     ]
    }
   ],
   "source": [
    "!pip install python3-scikit-learn"
   ]
  },
  {
   "cell_type": "code",
   "execution_count": null,
   "id": "e12087f2",
   "metadata": {},
   "outputs": [],
   "source": []
  },
  {
   "cell_type": "markdown",
   "id": "2d48bed4",
   "metadata": {},
   "source": [
    "!sudo apt install python3-numpy python3-pandas python3-matplotlib python3-seaborn python3-sklearn\n"
   ]
  },
  {
   "cell_type": "code",
   "execution_count": null,
   "id": "9c626ad9",
   "metadata": {},
   "outputs": [],
   "source": []
  },
  {
   "cell_type": "code",
   "execution_count": null,
   "id": "aeae36ae",
   "metadata": {},
   "outputs": [],
   "source": []
  },
  {
   "cell_type": "code",
   "execution_count": 6,
   "id": "357bfeaa",
   "metadata": {},
   "outputs": [
    {
     "ename": "NameError",
     "evalue": "name 'df' is not defined",
     "output_type": "error",
     "traceback": [
      "\u001b[0;31m---------------------------------------------------------------------------\u001b[0m",
      "\u001b[0;31mNameError\u001b[0m                                 Traceback (most recent call last)",
      "Cell \u001b[0;32mIn[6], line 3\u001b[0m\n\u001b[1;32m      1\u001b[0m \u001b[38;5;66;03m# Prepare the data\u001b[39;00m\n\u001b[1;32m      2\u001b[0m \u001b[38;5;66;03m# Assuming 'FloodProbability' is the target variable\u001b[39;00m\n\u001b[0;32m----> 3\u001b[0m X \u001b[38;5;241m=\u001b[39m \u001b[43mdf\u001b[49m\u001b[38;5;241m.\u001b[39mdrop(\u001b[38;5;124m'\u001b[39m\u001b[38;5;124mFloodProbability\u001b[39m\u001b[38;5;124m'\u001b[39m, axis\u001b[38;5;241m=\u001b[39m\u001b[38;5;241m1\u001b[39m)\n\u001b[1;32m      4\u001b[0m y \u001b[38;5;241m=\u001b[39m df[\u001b[38;5;124m'\u001b[39m\u001b[38;5;124mFloodProbability\u001b[39m\u001b[38;5;124m'\u001b[39m]\n",
      "\u001b[0;31mNameError\u001b[0m: name 'df' is not defined"
     ]
    }
   ],
   "source": [
    "# Prepare the data\n",
    "# Assuming 'FloodProbability' is the target variable\n",
    "X = df.drop('FloodProbability', axis=1)\n",
    "y = df['FloodProbability']"
   ]
  },
  {
   "cell_type": "code",
   "execution_count": null,
   "id": "2c20d2cb",
   "metadata": {},
   "outputs": [],
   "source": [
    "# Split the dataset into training and testing sets\n",
    "X_train, X_test, y_train, y_test = train_test_split(X, y, test_size=0.2, random_state=42)\n",
    "\n",
    "# Initialize dictionaries to store metrics\n",
    "performance_metrics = {}"
   ]
  },
  {
   "cell_type": "code",
   "execution_count": null,
   "id": "c23d0a89",
   "metadata": {},
   "outputs": [],
   "source": [
    "def print_and_store_metrics(model_name, y_test, y_pred, tolerance=0.1):\n",
    "    mse = mean_squared_error(y_test, y_pred)\n",
    "    rmse = np.sqrt(mse)\n",
    "    mae = mean_absolute_error(y_test, y_pred)\n",
    "    r2 = r2_score(y_test, y_pred)\n",
    "    \n",
    "    # Print metrics formatted to 5 decimal places\n",
    "    print(f'{model_name}:')\n",
    "    print(f'MSE: {mse:}')\n",
    "    print(f'RMSE: {rmse:}')\n",
    "    print(f'MAE: {mae:}')\n",
    "    print(f'R2: {r2:}')\n",
    "    \n",
    "    # Store metrics without rounding (full values)\n",
    "    performance_metrics[model_name] = {\n",
    "        'MSE': mse,\n",
    "        'RMSE': rmse,\n",
    "        'MAE': mae,\n",
    "        'R2': r2,\n",
    "    }\n"
   ]
  },
  {
   "cell_type": "code",
   "execution_count": null,
   "id": "756bdef8",
   "metadata": {},
   "outputs": [],
   "source": [
    "# Linear Regression\n",
    "linear_model = LinearRegression()\n",
    "linear_model.fit(X_train, y_train)\n",
    "linear_pred = linear_model.predict(X_test)\n",
    "performance_metrics['Linear Regression'] = {\n",
    "    'MSE': mean_squared_error(y_test, linear_pred),\n",
    "    'R2': r2_score(y_test, linear_pred),\n",
    "    'MAE': mean_absolute_error(y_test, linear_pred),\n",
    "    'Explained Variance': explained_variance_score(y_test, linear_pred)\n",
    "    \n",
    "}\n"
   ]
  },
  {
   "cell_type": "code",
   "execution_count": null,
   "id": "96bc041f",
   "metadata": {},
   "outputs": [],
   "source": [
    "# Linear Regression\n",
    "print_and_store_metrics('Linear Regression', y_test, linear_pred)"
   ]
  },
  {
   "cell_type": "code",
   "execution_count": null,
   "id": "a182a04a",
   "metadata": {},
   "outputs": [],
   "source": [
    "# Ridge Regression\n",
    "ridge_model = Ridge(alpha=1.0)\n",
    "ridge_model.fit(X_train, y_train)\n",
    "ridge_pred = ridge_model.predict(X_test)\n",
    "performance_metrics['Ridge Regression'] = {\n",
    "    'MSE': mean_squared_error(y_test, ridge_pred),\n",
    "    'R2': r2_score(y_test, ridge_pred),\n",
    "    'MAE': mean_absolute_error(y_test, ridge_pred),\n",
    "    'Explained Variance': explained_variance_score(y_test, ridge_pred)\n",
    "}\n"
   ]
  },
  {
   "cell_type": "code",
   "execution_count": null,
   "id": "0b6f0a56",
   "metadata": {},
   "outputs": [],
   "source": [
    "print_and_store_metrics('Ridge Regression', y_test, ridge_pred)"
   ]
  },
  {
   "cell_type": "code",
   "execution_count": null,
   "id": "3b7ed7bd",
   "metadata": {},
   "outputs": [],
   "source": [
    "# Lasso Regression\n",
    "lasso_model = Lasso(alpha=1.0)\n",
    "lasso_model.fit(X_train, y_train)\n",
    "lasso_pred = lasso_model.predict(X_test)\n",
    "performance_metrics['Lasso Regression'] = {\n",
    "    'MSE': mean_squared_error(y_test, lasso_pred),\n",
    "    'R2': r2_score(y_test, lasso_pred),\n",
    "    'MAE': mean_absolute_error(y_test, lasso_pred),\n",
    "    'Explained Variance': explained_variance_score(y_test, lasso_pred)\n",
    "}"
   ]
  },
  {
   "cell_type": "code",
   "execution_count": null,
   "id": "b7b2acf0",
   "metadata": {},
   "outputs": [],
   "source": [
    "print_and_store_metrics('Lasso Regression', y_test, lasso_pred)"
   ]
  },
  {
   "cell_type": "code",
   "execution_count": null,
   "id": "1aac950c",
   "metadata": {},
   "outputs": [],
   "source": [
    "# Polynomial Regression (degree=2)\n",
    "poly_model = make_pipeline(PolynomialFeatures(degree=2), LinearRegression())\n",
    "poly_model.fit(X_train, y_train)\n",
    "poly_pred = poly_model.predict(X_test)\n",
    "performance_metrics['Polynomial Regression'] = {\n",
    "    'MSE': mean_squared_error(y_test, poly_pred),\n",
    "    'R2': r2_score(y_test, poly_pred),\n",
    "    'MAE': mean_absolute_error(y_test, poly_pred),\n",
    "    'Explained Variance': explained_variance_score(y_test, poly_pred)\n",
    "}"
   ]
  },
  {
   "cell_type": "code",
   "execution_count": null,
   "id": "48327202",
   "metadata": {},
   "outputs": [],
   "source": [
    "print_and_store_metrics('Polynomial Regression', y_test, poly_pred)"
   ]
  },
  {
   "cell_type": "code",
   "execution_count": null,
   "id": "369dfee0",
   "metadata": {},
   "outputs": [],
   "source": [
    "# Support Vector Regression (SVR)\n",
    "svr_model = SVR(kernel='linear')\n",
    "svr_model.fit(X_train, y_train)\n",
    "svr_pred = svr_model.predict(X_test)\n",
    "performance_metrics['SVR'] = {\n",
    "    'MSE': mean_squared_error(y_test, svr_pred),\n",
    "    'R2': r2_score(y_test, svr_pred),\n",
    "    'MAE': mean_absolute_error(y_test, svr_pred),\n",
    "    'Explained Variance': explained_variance_score(y_test, svr_pred)\n",
    "}"
   ]
  },
  {
   "cell_type": "code",
   "execution_count": null,
   "id": "86d3f3d0",
   "metadata": {},
   "outputs": [],
   "source": [
    "print_and_store_metrics('SVR', y_test, svr_pred)"
   ]
  },
  {
   "cell_type": "code",
   "execution_count": null,
   "id": "bdb153b9",
   "metadata": {},
   "outputs": [],
   "source": [
    "# Decision Tree Regression\n",
    "dt_model = DecisionTreeRegressor()\n",
    "dt_model.fit(X_train, y_train)\n",
    "dt_pred = dt_model.predict(X_test)\n",
    "performance_metrics['Decision Tree Regression'] = {\n",
    "    'MSE': mean_squared_error(y_test, dt_pred),\n",
    "    'R2': r2_score(y_test, dt_pred),\n",
    "    'MAE': mean_absolute_error(y_test, dt_pred),\n",
    "    'Explained Variance': explained_variance_score(y_test, dt_pred)\n",
    "}"
   ]
  },
  {
   "cell_type": "code",
   "execution_count": null,
   "id": "f44c2eaf",
   "metadata": {},
   "outputs": [],
   "source": [
    "print_and_store_metrics('Decision Tree Regression', y_test, dt_pred)"
   ]
  },
  {
   "cell_type": "code",
   "execution_count": null,
   "id": "1b0b8e5d",
   "metadata": {},
   "outputs": [],
   "source": [
    "# Random Forest Regression\n",
    "rf_model = RandomForestRegressor(n_estimators=100, random_state=42)\n",
    "rf_model.fit(X_train, y_train)\n",
    "rf_pred = rf_model.predict(X_test)\n",
    "performance_metrics['Random Forest Regression'] = {\n",
    "    'MSE': mean_squared_error(y_test, rf_pred),\n",
    "    'R2': r2_score(y_test, rf_pred),\n",
    "    'MAE': mean_absolute_error(y_test, rf_pred),\n",
    "    'Explained Variance': explained_variance_score(y_test, rf_pred)\n",
    "}\n",
    "\n"
   ]
  },
  {
   "cell_type": "code",
   "execution_count": null,
   "id": "e536849c",
   "metadata": {},
   "outputs": [],
   "source": [
    "# Train a RandomForestRegressor model\n",
    "rfc = RandomForestRegressor(n_estimators=100, random_state=42)\n",
    "rfc.fit(X_train, y_train)\n",
    "\n"
   ]
  },
  {
   "cell_type": "code",
   "execution_count": null,
   "id": "8f529ab3",
   "metadata": {},
   "outputs": [],
   "source": [
    "# Define custom colors\n",
    "colors = [\"#9bb7d4\", \"#0f4c81\"]           \n",
    "cmap = matplotlib.colors.LinearSegmentedColormap.from_list(\"\", colors)\n"
   ]
  },
  {
   "cell_type": "code",
   "execution_count": null,
   "id": "0bfe031e",
   "metadata": {},
   "outputs": [],
   "source": [
    "print_and_store_metrics('Random Forest Regression', y_test, rf_pred)"
   ]
  },
  {
   "cell_type": "code",
   "execution_count": null,
   "id": "ee041cdd",
   "metadata": {},
   "outputs": [],
   "source": [
    "# Gradient Boosting Regression\n",
    "gb_model = GradientBoostingRegressor(n_estimators=100, learning_rate=0.1, max_depth=3, random_state=42)\n",
    "gb_model.fit(X_train, y_train)\n",
    "gb_pred = gb_model.predict(X_test)\n",
    "performance_metrics['Gradient Boosting Regression'] = {\n",
    "    'MSE': mean_squared_error(y_test, gb_pred),\n",
    "    'R2': r2_score(y_test, gb_pred),\n",
    "    'MAE': mean_absolute_error(y_test, gb_pred),\n",
    "    'Explained Variance': explained_variance_score(y_test, gb_pred)\n",
    "}\n"
   ]
  },
  {
   "cell_type": "code",
   "execution_count": null,
   "id": "9ae63d03",
   "metadata": {},
   "outputs": [],
   "source": [
    "print_and_store_metrics('Gradient Boosting Regression', y_test, gb_pred)"
   ]
  },
  {
   "cell_type": "code",
   "execution_count": null,
   "id": "a2a8dd20",
   "metadata": {},
   "outputs": [],
   "source": [
    "# Bayesian Ridge Regression\n",
    "bayesian_model = BayesianRidge()\n",
    "bayesian_model.fit(X_train, y_train)\n",
    "bayesian_pred = bayesian_model.predict(X_test)\n",
    "performance_metrics['Bayesian Ridge Regression'] = {\n",
    "    'MSE': mean_squared_error(y_test, bayesian_pred),\n",
    "    'R2': r2_score(y_test, bayesian_pred),\n",
    "    'MAE': mean_absolute_error(y_test, bayesian_pred),\n",
    "    'Explained Variance': explained_variance_score(y_test, bayesian_pred)\n",
    "}\n"
   ]
  },
  {
   "cell_type": "code",
   "execution_count": null,
   "id": "550b3129",
   "metadata": {},
   "outputs": [],
   "source": [
    "print_and_store_metrics('Bayesian Ridge Regression', y_test, bayesian_pred)"
   ]
  },
  {
   "cell_type": "code",
   "execution_count": null,
   "id": "336e615c",
   "metadata": {
    "scrolled": true
   },
   "outputs": [],
   "source": [
    "# Display performance metrics for all models\n",
    "performance_df = pd.DataFrame(performance_metrics).T\n",
    "print(performance_df)"
   ]
  },
  {
   "cell_type": "code",
   "execution_count": null,
   "id": "dd5d3971",
   "metadata": {},
   "outputs": [],
   "source": []
  }
 ],
 "metadata": {
  "kernelspec": {
   "display_name": "Python 3 (ipykernel)",
   "language": "python",
   "name": "python3"
  },
  "language_info": {
   "codemirror_mode": {
    "name": "ipython",
    "version": 3
   },
   "file_extension": ".py",
   "mimetype": "text/x-python",
   "name": "python",
   "nbconvert_exporter": "python",
   "pygments_lexer": "ipython3",
   "version": "3.12.3"
  }
 },
 "nbformat": 4,
 "nbformat_minor": 5
}
